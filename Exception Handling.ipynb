{
 "cells": [
  {
   "cell_type": "markdown",
   "metadata": {},
   "source": [
    "Question 1: Write a function to compute 5/0 and use try/except to catch the exceptions."
   ]
  },
  {
   "cell_type": "code",
   "execution_count": 3,
   "metadata": {},
   "outputs": [
    {
     "name": "stdout",
     "output_type": "stream",
     "text": [
      "Can't divide by zero.\n"
     ]
    }
   ],
   "source": [
    "def div(a,b):\n",
    "    try:\n",
    "        return a/b\n",
    "    except ZeroDivisionError:\n",
    "        print(\"Can't divide by zero.\")\n",
    "        return None\n",
    "    \n",
    "div(5,0)"
   ]
  },
  {
   "cell_type": "markdown",
   "metadata": {},
   "source": [
    "Question 2: Implement a Python program to generate all sentences where subject is in\n",
    "[\"Americans\", \"Indians\"] and verb is in [\"Play\", \"watch\"] and the object is in\n",
    "[\"Baseball\",\"cricket\"]."
   ]
  },
  {
   "cell_type": "code",
   "execution_count": 11,
   "metadata": {},
   "outputs": [],
   "source": [
    "subjects = [\"Americans\",\"Indians\"]\n",
    "verbs = [\"play\",\"watch\"]\n",
    "objects = [\"Baseball\",\"Cricket\"]"
   ]
  },
  {
   "cell_type": "code",
   "execution_count": 13,
   "metadata": {},
   "outputs": [
    {
     "name": "stdout",
     "output_type": "stream",
     "text": [
      "Americans play Baseball.\n",
      "Americans play Cricket.\n",
      "Americans watch Baseball.\n",
      "Americans watch Cricket.\n",
      "Indians play Baseball.\n",
      "Indians play Cricket.\n",
      "Indians watch Baseball.\n",
      "Indians watch Cricket.\n"
     ]
    }
   ],
   "source": [
    "combos = [f\"{a} {b} {c}.\" for a in subjects for b in verbs for c in objects]\n",
    "print(*combos, sep=\"\\n\")"
   ]
  }
 ],
 "metadata": {
  "kernelspec": {
   "display_name": "Python 3",
   "language": "python",
   "name": "python3"
  },
  "language_info": {
   "codemirror_mode": {
    "name": "ipython",
    "version": 3
   },
   "file_extension": ".py",
   "mimetype": "text/x-python",
   "name": "python",
   "nbconvert_exporter": "python",
   "pygments_lexer": "ipython3",
   "version": "3.7.6"
  }
 },
 "nbformat": 4,
 "nbformat_minor": 4
}
