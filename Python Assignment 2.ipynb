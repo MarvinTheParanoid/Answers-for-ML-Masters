{
 "cells": [
  {
   "cell_type": "markdown",
   "metadata": {},
   "source": [
    "Question 1: Create a pyramid pattern using nested for loop in Python."
   ]
  },
  {
   "cell_type": "code",
   "execution_count": 49,
   "metadata": {},
   "outputs": [
    {
     "name": "stdout",
     "output_type": "stream",
     "text": [
      "* \r\n",
      "* * \r\n",
      "* * * \r\n",
      "* * * * \r\n",
      "* * * * * \r\n",
      "* * * * \r\n",
      "* * * \r\n",
      "* * \r\n",
      "* \r\n"
     ]
    }
   ],
   "source": [
    "# Nested loop solution\n",
    "def print_stars(num):\n",
    "    minus = 0\n",
    "    for i in range(1,num*2):\n",
    "        if i > num:\n",
    "            minus -= 2\n",
    "        for j in range(0, i + minus):\n",
    "            print('*', end=\" \")\n",
    "        print(\"\\r\")\n",
    "        \n",
    "print_stars(5)"
   ]
  },
  {
   "cell_type": "code",
   "execution_count": 51,
   "metadata": {},
   "outputs": [
    {
     "name": "stdout",
     "output_type": "stream",
     "text": [
      "* \n",
      "* * \n",
      "* * * \n",
      "* * * * \n",
      "* * * * * \n",
      "* * * * \n",
      "* * * \n",
      "* * \n",
      "* \n"
     ]
    }
   ],
   "source": [
    "# A non-nested loop solution just for fun\n",
    "def print_stars_2(num):\n",
    "    stars = [\"* \"*i for i in range(1,num+1)]\n",
    "    stars += stars[:-1][::-1]\n",
    "    print(*stars, sep=\"\\n\")\n",
    "print_stars_2(5)"
   ]
  },
  {
   "cell_type": "markdown",
   "metadata": {},
   "source": [
    "Question 2: Write a Python program to reverse a word after accepting the input from the user."
   ]
  },
  {
   "cell_type": "code",
   "execution_count": 2,
   "metadata": {},
   "outputs": [
    {
     "name": "stdout",
     "output_type": "stream",
     "text": [
      "Enter text: This is a test\n",
      "tset a si sihT\n"
     ]
    }
   ],
   "source": [
    "#Question 2\n",
    "print(input(\"Enter text: \")[::-1])"
   ]
  }
 ],
 "metadata": {
  "kernelspec": {
   "display_name": "Python 3",
   "language": "python",
   "name": "python3"
  },
  "language_info": {
   "codemirror_mode": {
    "name": "ipython",
    "version": 3
   },
   "file_extension": ".py",
   "mimetype": "text/x-python",
   "name": "python",
   "nbconvert_exporter": "python",
   "pygments_lexer": "ipython3",
   "version": "3.7.6"
  }
 },
 "nbformat": 4,
 "nbformat_minor": 4
}
