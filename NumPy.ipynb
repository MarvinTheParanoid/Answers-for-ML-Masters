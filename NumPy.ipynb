{
 "cells": [
  {
   "cell_type": "code",
   "execution_count": 1,
   "metadata": {},
   "outputs": [],
   "source": [
    "import numpy as np"
   ]
  },
  {
   "cell_type": "markdown",
   "metadata": {},
   "source": [
    "### Question 1\n",
    "Write a function to create a Vandermonde matrix given an input vector and a boolean argument for increasing or decreasing.   \n",
    "\n",
    "Note: I'm assuming that these matrices are always square - so that the powers go from 0 to n-1."
   ]
  },
  {
   "cell_type": "code",
   "execution_count": 2,
   "metadata": {},
   "outputs": [
    {
     "name": "stdout",
     "output_type": "stream",
     "text": [
      "[[  1   1   1   1]\n",
      " [  1   2   4   8]\n",
      " [  1   6  36 216]\n",
      " [  1   9  81 729]]\n"
     ]
    }
   ],
   "source": [
    "# solution 1 using the numpy vander function\n",
    "def np_vander(a, increasing=True):\n",
    "    return np.vander(a, a.shape[0], increasing)\n",
    "\n",
    "v = np.array([1,2,6,9])\n",
    "print(np_vander(v, True))"
   ]
  },
  {
   "cell_type": "code",
   "execution_count": 3,
   "metadata": {},
   "outputs": [
    {
     "name": "stdout",
     "output_type": "stream",
     "text": [
      "[[  1   1   1   1]\n",
      " [  8   4   2   1]\n",
      " [216  36   6   1]\n",
      " [729  81   9   1]]\n"
     ]
    }
   ],
   "source": [
    "# solution 2 without numpy's vander function\n",
    "def la_vander(a, increasing=True):\n",
    "    base = v.reshape(-1,1)\n",
    "    to = np.arange(base.shape[0]).reshape(1,-1)\n",
    "    vander = np.power(base,to)\n",
    "    return vander if increasing else np.flip(vander, axis=1)\n",
    "\n",
    "print(la_vander(v,False))"
   ]
  },
  {
   "cell_type": "markdown",
   "metadata": {},
   "source": [
    "### Question 2\n",
    "Write a function to find moving average in an array over a window: Test it over [3, 5, 7, 2, 8, 10, 11, 65, 72, 81, 99, 100, 150] and window of 3."
   ]
  },
  {
   "cell_type": "code",
   "execution_count": 4,
   "metadata": {},
   "outputs": [],
   "source": [
    "w = np.array([10,20,30,40,50,60,70,80,90,100])"
   ]
  },
  {
   "cell_type": "code",
   "execution_count": 5,
   "metadata": {},
   "outputs": [
    {
     "data": {
      "text/plain": [
       "array([20., 30., 40., 50., 60., 70., 80., 90.])"
      ]
     },
     "execution_count": 5,
     "metadata": {},
     "output_type": "execute_result"
    }
   ],
   "source": [
    "# solution 1 using cumsum\n",
    "def moving_av_csum (a, k=3):\n",
    "    csum = np.cumsum(a)\n",
    "    csum[k:] = csum[k:] - csum[:-k]\n",
    "    return csum[k - 1:] / k\n",
    "\n",
    "moving_av_csum(w)"
   ]
  },
  {
   "cell_type": "code",
   "execution_count": 6,
   "metadata": {},
   "outputs": [
    {
     "data": {
      "text/plain": [
       "array([20., 30., 40., 50., 60., 70., 80., 90.])"
      ]
     },
     "execution_count": 6,
     "metadata": {},
     "output_type": "execute_result"
    }
   ],
   "source": [
    "# solution 2 using convolutions\n",
    "def moving_av_convolve (a, k=3):\n",
    "    a = a.flatten()\n",
    "    ones = np.ones(k,)\n",
    "    return np.convolve(a,ones, mode=\"valid\") / k\n",
    "\n",
    "moving_av_convolve(w)"
   ]
  }
 ],
 "metadata": {
  "kernelspec": {
   "display_name": "Python 3",
   "language": "python",
   "name": "python3"
  },
  "language_info": {
   "codemirror_mode": {
    "name": "ipython",
    "version": 3
   },
   "file_extension": ".py",
   "mimetype": "text/x-python",
   "name": "python",
   "nbconvert_exporter": "python",
   "pygments_lexer": "ipython3",
   "version": "3.7.6"
  }
 },
 "nbformat": 4,
 "nbformat_minor": 4
}
